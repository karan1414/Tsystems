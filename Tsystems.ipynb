{
 "cells": [
  {
   "cell_type": "code",
   "execution_count": 93,
   "metadata": {},
   "outputs": [],
   "source": [
    "import os\n",
    "import openai\n",
    "import logging\n",
    "import streamlit as st\n",
    "\n",
    "from pprint import pprint\n",
    "from dotenv import load_dotenv\n",
    "from langchain_community.document_loaders import TextLoader\n",
    "from langchain_community.vectorstores import Chroma\n",
    "from langchain_openai import OpenAIEmbeddings\n",
    "from langchain_text_splitters import RecursiveCharacterTextSplitter\n",
    "import chromadb.utils.embedding_functions as embedding_functions\n",
    "\n",
    "\n",
    "DB_PATH = \"chroma_db\"\n",
    "PERSIS_DIR = \"./chroma_langchain_db\"\n",
    "load_dotenv() #loads all env vars\n",
    "\n",
    "\n",
    "os.environ[\"OPENAI_API_KEY\"] = os.getenv(\"OPENAI_API_KEY\")\n",
    "openai_client = openai.OpenAI(api_key=os.environ[\"OPENAI_API_KEY\"])"
   ]
  },
  {
   "cell_type": "code",
   "execution_count": 102,
   "metadata": {},
   "outputs": [],
   "source": [
    "\n",
    "def save_documents(release_data, embeddings):\n",
    "    # embeddings = OpenAIEmbeddings(model=\"text-embedding-3-small\")\n",
    "    text_splitter = RecursiveCharacterTextSplitter(chunk_size=1000)\n",
    "    docs = []\n",
    "    for data in release_data:   \n",
    "        docs.extend(text_splitter.create_documents([data]))\n",
    "    \n",
    "    db = Chroma.from_documents(docs, embeddings, persist_directory=PERSIS_DIR)\n",
    "    db.persist()\n",
    "    return db\n",
    "\n",
    "# load documents \n",
    "def load_documents(folder_name):\n",
    "    release_data = []\n",
    "    \n",
    "    files = os.listdir(folder_name)\n",
    "    for file_name in files:\n",
    "        if file_name.endswith(\".txt\"):\n",
    "            file_path = os.path.join(folder_name, file_name)\n",
    "            text_data = open(file_path, encoding=\"utf-8\").read()\n",
    "            release_data.append(text_data)              \n",
    "    return release_data\n",
    "\n",
    "def get_llm_response(context, query):\n",
    "    prompt = f\"Given the context: {context}, please answer the following question {query}.\"\n",
    "    \n",
    "    try :\n",
    "        response = openai_client.chat.completions.create(\n",
    "            model=\"gpt-3.5-turbo\",\n",
    "            messages=[\n",
    "                {'role': 'system', 'content': \"You have to answer question based on context given\"},\n",
    "                {'role': 'user', 'content': prompt}\n",
    "            ],\n",
    "            temperature=0.4\n",
    "        )\n",
    "        return response.choices[0].message.content \n",
    "    except Exception as e:\n",
    "        logging.error(f'An error occured: {e}')\n",
    "        return None\n",
    "\n",
    "def main():\n",
    "    embeddings = OpenAIEmbeddings(model=\"text-embedding-3-small\")\n",
    "\n",
    "    if os.path.exists(PERSIS_DIR):\n",
    "        chroma_db = Chroma(persist_directory=PERSIS_DIR, embedding_function=embeddings)\n",
    "    else:\n",
    "        release_data_list = load_documents('data')\n",
    "        chroma_db = save_documents(release_data_list, embeddings)\n",
    "\n",
    "    query = \"Tell me something about German Basic Law\"\n",
    "    retriver = chroma_db.as_retriever()\n",
    "\n",
    "    # print(retriver.get_relevant_documents(query)[0].page_content)\n",
    "    # TODO: embedd the query and check reponse time\n",
    "    relevant_docs = retriver.get_relevant_documents(query)[0].page_content\n",
    "\n",
    "    context = \" \".join(relevant_docs)\n",
    "    # context = \" \".join([doc.page_content for doc in relevant_docs])\n",
    "\n",
    "    if query:\n",
    "        llm_response = get_llm_response(context, query)\n",
    "        if llm_response:\n",
    "            pprint(llm_response)\n",
    "        else:\n",
    "            logging.info(\"No Response recived from the LLM !\")\n",
    "    else:\n",
    "        logging.info(\"Please provide the search query !\")\n"
   ]
  },
  {
   "cell_type": "code",
   "execution_count": 103,
   "metadata": {},
   "outputs": [
    {
     "name": "stdout",
     "output_type": "stream",
     "text": [
      "('The German Basic Law, which has been in effect for 75 years, is the '\n",
      " 'constitution of Germany. It emphasizes the inviolability of human dignity as '\n",
      " 'its defining principle and places a duty on all state authorities to respect '\n",
      " 'and protect it. The Basic Law guarantees fundamental rights such as freedom '\n",
      " 'of speech, freedom of the press, freedom of faith, and equal rights. In '\n",
      " 'addition to individual rights, the Basic Law also includes principles '\n",
      " 'regarding state structure, federal and state governments, legislative '\n",
      " 'bodies, state administration, jurisdiction, and finance. Since the '\n",
      " 'reunification of Germany in 1990, the Basic Law has applied to all of '\n",
      " 'Germany.')\n"
     ]
    }
   ],
   "source": [
    "if __name__ == \"__main__\":\n",
    "    main()"
   ]
  },
  {
   "cell_type": "code",
   "execution_count": null,
   "metadata": {},
   "outputs": [],
   "source": []
  }
 ],
 "metadata": {
  "kernelspec": {
   "display_name": "tsystems",
   "language": "python",
   "name": "python3"
  },
  "language_info": {
   "codemirror_mode": {
    "name": "ipython",
    "version": 3
   },
   "file_extension": ".py",
   "mimetype": "text/x-python",
   "name": "python",
   "nbconvert_exporter": "python",
   "pygments_lexer": "ipython3",
   "version": "3.9.13"
  }
 },
 "nbformat": 4,
 "nbformat_minor": 2
}
