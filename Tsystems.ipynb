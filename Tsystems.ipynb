{
 "cells": [
  {
   "cell_type": "code",
   "execution_count": 59,
   "metadata": {},
   "outputs": [],
   "source": [
    "import os\n",
    "import openai\n",
    "import streamlit as st\n",
    "\n",
    "from pprint import pprint\n",
    "from dotenv import load_dotenv\n",
    "from langchain_community.document_loaders import TextLoader\n",
    "from langchain_community.vectorstores import Chroma\n",
    "from langchain_openai import OpenAIEmbeddings\n",
    "from langchain_text_splitters import RecursiveCharacterTextSplitter\n",
    "\n",
    "load_dotenv() #loads all env vars\n",
    "\n",
    "os.environ[\"OPENAI_API_KEY\"] = os.getenv(\"OPENAI_API_KEY\")\n",
    "openai_client = openai.OpenAI(api_key=os.environ[\"OPENAI_API_KEY\"])"
   ]
  },
  {
   "cell_type": "code",
   "execution_count": 56,
   "metadata": {},
   "outputs": [],
   "source": [
    "\n",
    "def save_documents(release_data):\n",
    "    embeddings = OpenAIEmbeddings(model=\"text-embedding-3-small\")\n",
    "    text_splitter = RecursiveCharacterTextSplitter(chunk_size=1000)\n",
    "    docs = []\n",
    "    for data in release_data:   \n",
    "        docs.extend(text_splitter.create_documents([data]))\n",
    "    \n",
    "    db = Chroma.from_documents(docs, embeddings)\n",
    "    return db\n",
    "\n",
    "# load documents \n",
    "def load_documents(folder_name):\n",
    "    release_data = []\n",
    "    \n",
    "    files = os.listdir(folder_name)\n",
    "    for file_name in files:\n",
    "        if file_name.endswith(\".txt\"):\n",
    "            file_path = os.path.join(folder_name, file_name)\n",
    "            text_data = open(file_path, encoding=\"utf-8\").read()\n",
    "            release_data.append(text_data)              \n",
    "    return release_data\n",
    "\n",
    "def get_llm_response(context, query):\n",
    "    prompt = f\"Given the context: {context}, please answer the following question {query}.\"\n",
    "    \n",
    "    response = openai_client.chat.completions.create(\n",
    "        model=\"gpt-3.5-turbo\",\n",
    "        messages=[\n",
    "            {'role': 'system', 'content': \"You have to answer question based on context given\"},\n",
    "            {'role': 'user', 'content': prompt}\n",
    "        ],\n",
    "        temperature=0\n",
    "    )\n",
    "    return response.choices[0].message.content\n",
    "\n",
    "def main():\n",
    "    release_data_list = load_documents('data')\n",
    "    chroma_db = save_documents(release_data_list)\n",
    "\n",
    "    # title of app\n",
    "    st.title(\"T-systems Q&A\")\n",
    "\n",
    "    # sidebar for settings\n",
    "    st.sidebar.title(\"Settings\")\n",
    "    api_key = st.sidebar.text_input(\"Enter you openAI Api key: \", type=\"password\")\n",
    "\n",
    "    # response param\n",
    "    temperature = st.sidebar.slider(\"Temperature\", min_value=0.0, max_value=1.0, value=0.5)\n",
    "\n",
    "    # main interface for user input\n",
    "    st.write(\"Go ahead and ask question related to Tsystem press release\")\n",
    "    query = st.text_input(\"Search\")\n",
    "    \n",
    "    query = \"Tell me something about Deutsche Telekom and Google Cloud partnership\"\n",
    "    retriver = chroma_db.as_retriever()\n",
    "    # print(retriver.get_relevant_documents(query)[0].page_content)\n",
    "    realase_data_relevant = retriver.get_relevant_documents(query)[0].page_content\n",
    "    context = \" \".join(realase_data_relevant)\n",
    "    llm_response = get_llm_response(context, query)\n",
    "    pprint(llm_response)\n"
   ]
  },
  {
   "cell_type": "code",
   "execution_count": 57,
   "metadata": {},
   "outputs": [
    {
     "name": "stdout",
     "output_type": "stream",
     "text": [
      "('Deutsche Telekom and Google Cloud have announced an expanded partnership to '\n",
      " 'collaborate on defining a joint roadmap for the telecommunications industry. '\n",
      " 'This partnership aims to bring the power of the cloud closer to mobile and '\n",
      " \"connected devices at the edge of Deutsche Telekom's network. By working \"\n",
      " 'together, they are reimagining network infrastructures to develop new '\n",
      " 'network deployment models. This collaboration will focus on creating more '\n",
      " 'secure, reliable, and scalable cloud-native networks, enabling companies '\n",
      " 'like Deutsche Telekom to deliver elastic, high-capacity, high-bandwidth, and '\n",
      " 'low-latency connectivity, as well as value-added services to their '\n",
      " 'customers. The initial step of this partnership will involve piloting '\n",
      " 'various network services, such as 5G Standalone in Austria and remote packet '\n",
      " \"gateway functions, leveraging Google Cloud's technology and expertise.\")\n"
     ]
    }
   ],
   "source": [
    "main()"
   ]
  },
  {
   "cell_type": "code",
   "execution_count": null,
   "metadata": {},
   "outputs": [],
   "source": []
  }
 ],
 "metadata": {
  "kernelspec": {
   "display_name": "tsystems",
   "language": "python",
   "name": "python3"
  },
  "language_info": {
   "codemirror_mode": {
    "name": "ipython",
    "version": 3
   },
   "file_extension": ".py",
   "mimetype": "text/x-python",
   "name": "python",
   "nbconvert_exporter": "python",
   "pygments_lexer": "ipython3",
   "version": "3.9.13"
  }
 },
 "nbformat": 4,
 "nbformat_minor": 2
}
